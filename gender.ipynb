{
 "cells": [
  {
   "cell_type": "code",
   "execution_count": null,
   "metadata": {
    "colab": {
     "base_uri": "https://localhost:8080/"
    },
    "executionInfo": {
     "elapsed": 43809,
     "status": "ok",
     "timestamp": 1748425736407,
     "user": {
      "displayName": "楊鎮宇",
      "userId": "06924373515301365812"
     },
     "user_tz": -480
    },
    "id": "_YBm-7tqshJy",
    "outputId": "59db88b6-72a7-4466-a639-d8744a5462ac"
   },
   "outputs": [
    {
     "name": "stdout",
     "output_type": "stream",
     "text": [
      "Mounted at /content/drive\n"
     ]
    }
   ],
   "source": [
    "from google.colab import drive\n",
    "drive.mount('/content/drive', force_remount=True)"
   ]
  },
  {
   "cell_type": "code",
   "execution_count": null,
   "metadata": {
    "id": "H7_wAilGsluJ"
   },
   "outputs": [],
   "source": [
    "img_size = 48\n",
    "batch_size = 32\n",
    "epochs = 20\n",
    "learning_rate = 3e-4\n",
    "step_size = 5\n",
    "gamma = 0.1\n",
    "data_dir = '/content/drive/MyDrive/dataset_gender'\n",
    "save_path = '/content/drive/MyDrive/gender.pth'"
   ]
  },
  {
   "cell_type": "code",
   "execution_count": null,
   "metadata": {
    "colab": {
     "base_uri": "https://localhost:8080/"
    },
    "executionInfo": {
     "elapsed": 466007,
     "status": "ok",
     "timestamp": 1748426205606,
     "user": {
      "displayName": "楊鎮宇",
      "userId": "06924373515301365812"
     },
     "user_tz": -480
    },
    "id": "eCRCvGdXsm4V",
    "outputId": "95640e1b-85a8-471d-ab73-6491d9681c6d"
   },
   "outputs": [
    {
     "name": "stderr",
     "output_type": "stream",
     "text": [
      "/usr/local/lib/python3.11/dist-packages/torch/utils/data/dataloader.py:624: UserWarning: This DataLoader will create 4 worker processes in total. Our suggested max number of worker in current system is 2, which is smaller than what this DataLoader is going to create. Please be aware that excessive worker creation might get DataLoader running slow or even freeze, lower the worker number to avoid potential slowness/freeze if necessary.\n",
      "  warnings.warn(\n"
     ]
    },
    {
     "name": "stdout",
     "output_type": "stream",
     "text": [
      "Computed RGB mean: [0.5728868246078491, 0.5101767778396606, 0.47214433550834656], std: [0.29351043701171875, 0.2858504056930542, 0.2939562499523163]\n"
     ]
    }
   ],
   "source": [
    "import torch\n",
    "from torchvision import datasets, transforms\n",
    "from torch.utils.data import DataLoader\n",
    "import os"
   ]
  },
  {
   "cell_type": "code",
   "execution_count": null,
   "metadata": {
    "id": "LVgOUNeUJusF"
   },
   "outputs": [],
   "source": [
    "rgb_mean = [0.485, 0.456, 0.406]\n",
    "rgb_std = [0.229, 0.224, 0.225]"
   ]
  },
  {
   "cell_type": "code",
   "execution_count": null,
   "metadata": {
    "colab": {
     "base_uri": "https://localhost:8080/"
    },
    "executionInfo": {
     "elapsed": 44,
     "status": "ok",
     "timestamp": 1748426339549,
     "user": {
      "displayName": "楊鎮宇",
      "userId": "06924373515301365812"
     },
     "user_tz": -480
    },
    "id": "1_I2CrrasobI",
    "outputId": "e7ad2e41-439f-43c3-f4e1-c2306df0f035"
   },
   "outputs": [
    {
     "name": "stdout",
     "output_type": "stream",
     "text": [
      "Using device: cpu\n"
     ]
    }
   ],
   "source": [
    "from torchvision import datasets, transforms\n",
    "from torch.utils.data import DataLoader\n",
    "\n",
    "device = torch.device('cuda' if torch.cuda.is_available() else 'cpu')\n",
    "print('Using device:', device)"
   ]
  },
  {
   "cell_type": "code",
   "execution_count": null,
   "metadata": {
    "colab": {
     "base_uri": "https://localhost:8080/"
    },
    "executionInfo": {
     "elapsed": 3493,
     "status": "ok",
     "timestamp": 1748426345232,
     "user": {
      "displayName": "楊鎮宇",
      "userId": "06924373515301365812"
     },
     "user_tz": -480
    },
    "id": "mLcnbSP1sojY",
    "outputId": "7228f9fd-ed8e-440c-b26d-2f42380fe3a1"
   },
   "outputs": [
    {
     "name": "stdout",
     "output_type": "stream",
     "text": [
      "Classes: ['Female', 'Male']\n"
     ]
    }
   ],
   "source": [
    "train_tf = transforms.Compose([\n",
    "    transforms.RandomResizedCrop(img_size),\n",
    "    transforms.RandomHorizontalFlip(),\n",
    "    transforms.ToTensor(),\n",
    "    transforms.Normalize(rgb_mean, rgb_std),\n",
    "])\n",
    "test_tf = transforms.Compose([\n",
    "    transforms.Resize((img_size, img_size)),\n",
    "    transforms.CenterCrop(img_size),\n",
    "    transforms.ToTensor(),\n",
    "    transforms.Normalize(rgb_mean, rgb_std),\n",
    "])"
   ]
  },
  {
   "cell_type": "code",
   "execution_count": null,
   "metadata": {
    "id": "qaE7XKD9J13w"
   },
   "outputs": [],
   "source": [
    "# data\n",
    "train_dataset = datasets.ImageFolder(os.path.join(data_dir, 'train'), transform=train_tf)\n",
    "test_dataset = datasets.ImageFolder(os.path.join(data_dir, 'test'), transform=test_tf)\n",
    "\n",
    "train_loader = DataLoader(train_dataset, batch_size=batch_size, shuffle=True, num_workers=4)\n",
    "test_loader = DataLoader(test_dataset, batch_size=batch_size, shuffle=False, num_workers=4)\n",
    "\n",
    "classes = train_dataset.classes\n",
    "num_classes = len(classes)"
   ]
  },
  {
   "cell_type": "code",
   "execution_count": null,
   "metadata": {
    "colab": {
     "base_uri": "https://localhost:8080/",
     "height": 173,
     "referenced_widgets": [
      "5d5a8468fdf64500be4d8e3a16094a57",
      "cb86e6fa811f4cbb8c2466d5ac766d9f",
      "3d660bf09ba3485f99e75d1e06555589",
      "b1cbdd234de9494c9681be63a8d021de",
      "abf7947c7309416fa3d0075dcab24b0d",
      "025e67d516a34408a92b34855f19ac1e",
      "497a578f4c5245c1b318b7265ae6978b",
      "c6c7619c8b374b729622c09c3ef3e48f",
      "3d0284a60c8f4fd7b865bcf43bea06dc",
      "0450a311d1bd47948af8c8331ba0fb4b",
      "5938d2875baf4a4ca40462ab78608142"
     ]
    },
    "executionInfo": {
     "elapsed": 6861,
     "status": "ok",
     "timestamp": 1748426355153,
     "user": {
      "displayName": "楊鎮宇",
      "userId": "06924373515301365812"
     },
     "user_tz": -480
    },
    "id": "nMwO_3Gesq1q",
    "outputId": "a3e6ca3b-9691-481a-e195-bf582b1d16f2"
   },
   "outputs": [],
   "source": [
    "# model\n",
    "import timm\n",
    "model = timm.create_model(\n",
    "    'mobilevit_s',\n",
    "    pretrained=True,\n",
    "    num_classes=num_classes,\n",
    "    in_chans=3\n",
    ").to(device)"
   ]
  },
  {
   "cell_type": "code",
   "execution_count": null,
   "metadata": {
    "colab": {
     "base_uri": "https://localhost:8080/"
    },
    "executionInfo": {
     "elapsed": 5767487,
     "status": "ok",
     "timestamp": 1748432125073,
     "user": {
      "displayName": "楊鎮宇",
      "userId": "06924373515301365812"
     },
     "user_tz": -480
    },
    "id": "Owp5CVg6stV1",
    "outputId": "271e6273-0127-4151-8e61-c728ff10684e"
   },
   "outputs": [
    {
     "name": "stderr",
     "output_type": "stream",
     "text": [
      "/usr/local/lib/python3.11/dist-packages/torch/utils/data/dataloader.py:624: UserWarning: This DataLoader will create 4 worker processes in total. Our suggested max number of worker in current system is 2, which is smaller than what this DataLoader is going to create. Please be aware that excessive worker creation might get DataLoader running slow or even freeze, lower the worker number to avoid potential slowness/freeze if necessary.\n",
      "  warnings.warn(\n"
     ]
    },
    {
     "name": "stdout",
     "output_type": "stream",
     "text": [
      "Epoch 01: Train Loss=0.5315, Test Acc=75.68%\n",
      " New best model saved with acc=75.68%\n",
      "Epoch 02: Train Loss=0.4436, Test Acc=78.84%\n",
      " New best model saved with acc=78.84%\n",
      "Epoch 03: Train Loss=0.4137, Test Acc=76.71%\n",
      "Epoch 04: Train Loss=0.3963, Test Acc=79.43%\n",
      " New best model saved with acc=79.43%\n",
      "Epoch 05: Train Loss=0.3790, Test Acc=81.94%\n",
      " New best model saved with acc=81.94%\n",
      "Epoch 06: Train Loss=0.3459, Test Acc=83.33%\n",
      " New best model saved with acc=83.33%\n",
      "Epoch 07: Train Loss=0.3423, Test Acc=82.73%\n",
      "Epoch 08: Train Loss=0.3337, Test Acc=83.13%\n",
      "Epoch 09: Train Loss=0.3321, Test Acc=83.62%\n",
      " New best model saved with acc=83.62%\n",
      "Epoch 10: Train Loss=0.3263, Test Acc=83.52%\n",
      "Epoch 11: Train Loss=0.3277, Test Acc=83.67%\n",
      " New best model saved with acc=83.67%\n",
      "Epoch 12: Train Loss=0.3172, Test Acc=83.72%\n",
      " New best model saved with acc=83.72%\n",
      "Epoch 13: Train Loss=0.3328, Test Acc=83.18%\n",
      "Epoch 14: Train Loss=0.3175, Test Acc=83.62%\n",
      "Epoch 15: Train Loss=0.3199, Test Acc=83.77%\n",
      " New best model saved with acc=83.77%\n",
      "Epoch 16: Train Loss=0.3186, Test Acc=83.52%\n",
      "Epoch 17: Train Loss=0.3242, Test Acc=83.62%\n",
      "Epoch 18: Train Loss=0.3169, Test Acc=83.52%\n",
      "Epoch 19: Train Loss=0.3200, Test Acc=83.62%\n",
      "Epoch 20: Train Loss=0.3163, Test Acc=83.82%\n",
      " New best model saved with acc=83.82%\n",
      "Best Test Accuracy: 83.82%\n"
     ]
    }
   ],
   "source": [
    "# Loss, Optimizer, Scheduler\n",
    "import torch.nn as nn\n",
    "import torch.optim as optim\n",
    "\n",
    "criterion = nn.CrossEntropyLoss()\n",
    "optimizer = optim.AdamW(model.parameters(), lr=learning_rate, weight_decay=1e-2)\n",
    "scheduler = optim.lr_scheduler.StepLR(optimizer, step_size=step_size, gamma=gamma)\n",
    "\n",
    "# train\n",
    "best_acc = 0.0\n",
    "for epoch in range(1, epochs + 1):\n",
    "    model.train()\n",
    "    running_loss = 0.0\n",
    "    for imgs, labels in train_loader:\n",
    "        imgs, labels = imgs.to(device), labels.to(device)\n",
    "        optimizer.zero_grad()\n",
    "        outputs = model(imgs)\n",
    "        loss = criterion(outputs, labels)\n",
    "        loss.backward()\n",
    "        optimizer.step()\n",
    "        running_loss += loss.item() * imgs.size(0)\n",
    "    scheduler.step()\n",
    "    epoch_loss = running_loss / len(train_dataset)\n",
    "\n",
    "    model.eval()\n",
    "    correct = total = 0\n",
    "    with torch.no_grad():\n",
    "        for imgs, labels in test_loader:\n",
    "            imgs, labels = imgs.to(device), labels.to(device)\n",
    "            outputs = model(imgs)\n",
    "            preds = outputs.argmax(dim=1)\n",
    "            correct += (preds == labels).sum().item()\n",
    "            total += labels.size(0)\n",
    "    test_acc = correct / total * 100\n",
    "    print(f\"Epoch {epoch:02d}: Train Loss={epoch_loss:.4f}, Test Acc={test_acc:.2f}%\")\n",
    "    if test_acc > best_acc:\n",
    "        best_acc = test_acc\n",
    "        torch.save(model.state_dict(), save_path)\n",
    "        print(f\" New best model saved with acc={best_acc:.2f}%\")\n",
    "print(f\"Best Test Accuracy: {best_acc:.2f}%\")"
   ]
  },
  {
   "cell_type": "code",
   "execution_count": null,
   "metadata": {
    "id": "a8MxzA8SsyYD"
   },
   "outputs": [],
   "source": [
    "# predict\n",
    "from PIL import Image\n",
    "model.load_state_dict(torch.load(save_path, map_location=device))\n",
    "model.eval()\n",
    "\n",
    "def predict(img_path):\n",
    "    img = Image.open(img_path).convert('RGB')\n",
    "    x = test_tf(img).unsqueeze(0).to(device)\n",
    "    with torch.no_grad():\n",
    "        logits = model(x)\n",
    "    idx = logits.argmax(dim=1).item()\n",
    "    return classes[idx]\n",
    "\n",
    "# pred = predict('/content/drive/MyDrive/archive/test/happy/xxx.jpg')\n",
    "# print('Predicted gender:', pred)"
   ]
  }
 ],
 "metadata": {
  "colab": {
   "authorship_tag": "ABX9TyMA6tZ1WRbbLvWHv77oIl5U",
   "provenance": []
  },
  "kernelspec": {
   "display_name": "Python 3",
   "name": "python3"
  },
  "language_info": {
   "name": "python"
  },
  "widgets": {
   "application/vnd.jupyter.widget-state+json": {
    "025e67d516a34408a92b34855f19ac1e": {
     "model_module": "@jupyter-widgets/base",
     "model_module_version": "1.2.0",
     "model_name": "LayoutModel",
     "state": {
      "_model_module": "@jupyter-widgets/base",
      "_model_module_version": "1.2.0",
      "_model_name": "LayoutModel",
      "_view_count": null,
      "_view_module": "@jupyter-widgets/base",
      "_view_module_version": "1.2.0",
      "_view_name": "LayoutView",
      "align_content": null,
      "align_items": null,
      "align_self": null,
      "border": null,
      "bottom": null,
      "display": null,
      "flex": null,
      "flex_flow": null,
      "grid_area": null,
      "grid_auto_columns": null,
      "grid_auto_flow": null,
      "grid_auto_rows": null,
      "grid_column": null,
      "grid_gap": null,
      "grid_row": null,
      "grid_template_areas": null,
      "grid_template_columns": null,
      "grid_template_rows": null,
      "height": null,
      "justify_content": null,
      "justify_items": null,
      "left": null,
      "margin": null,
      "max_height": null,
      "max_width": null,
      "min_height": null,
      "min_width": null,
      "object_fit": null,
      "object_position": null,
      "order": null,
      "overflow": null,
      "overflow_x": null,
      "overflow_y": null,
      "padding": null,
      "right": null,
      "top": null,
      "visibility": null,
      "width": null
     }
    },
    "0450a311d1bd47948af8c8331ba0fb4b": {
     "model_module": "@jupyter-widgets/base",
     "model_module_version": "1.2.0",
     "model_name": "LayoutModel",
     "state": {
      "_model_module": "@jupyter-widgets/base",
      "_model_module_version": "1.2.0",
      "_model_name": "LayoutModel",
      "_view_count": null,
      "_view_module": "@jupyter-widgets/base",
      "_view_module_version": "1.2.0",
      "_view_name": "LayoutView",
      "align_content": null,
      "align_items": null,
      "align_self": null,
      "border": null,
      "bottom": null,
      "display": null,
      "flex": null,
      "flex_flow": null,
      "grid_area": null,
      "grid_auto_columns": null,
      "grid_auto_flow": null,
      "grid_auto_rows": null,
      "grid_column": null,
      "grid_gap": null,
      "grid_row": null,
      "grid_template_areas": null,
      "grid_template_columns": null,
      "grid_template_rows": null,
      "height": null,
      "justify_content": null,
      "justify_items": null,
      "left": null,
      "margin": null,
      "max_height": null,
      "max_width": null,
      "min_height": null,
      "min_width": null,
      "object_fit": null,
      "object_position": null,
      "order": null,
      "overflow": null,
      "overflow_x": null,
      "overflow_y": null,
      "padding": null,
      "right": null,
      "top": null,
      "visibility": null,
      "width": null
     }
    },
    "3d0284a60c8f4fd7b865bcf43bea06dc": {
     "model_module": "@jupyter-widgets/controls",
     "model_module_version": "1.5.0",
     "model_name": "ProgressStyleModel",
     "state": {
      "_model_module": "@jupyter-widgets/controls",
      "_model_module_version": "1.5.0",
      "_model_name": "ProgressStyleModel",
      "_view_count": null,
      "_view_module": "@jupyter-widgets/base",
      "_view_module_version": "1.2.0",
      "_view_name": "StyleView",
      "bar_color": null,
      "description_width": ""
     }
    },
    "3d660bf09ba3485f99e75d1e06555589": {
     "model_module": "@jupyter-widgets/controls",
     "model_module_version": "1.5.0",
     "model_name": "FloatProgressModel",
     "state": {
      "_dom_classes": [],
      "_model_module": "@jupyter-widgets/controls",
      "_model_module_version": "1.5.0",
      "_model_name": "FloatProgressModel",
      "_view_count": null,
      "_view_module": "@jupyter-widgets/controls",
      "_view_module_version": "1.5.0",
      "_view_name": "ProgressView",
      "bar_style": "success",
      "description": "",
      "description_tooltip": null,
      "layout": "IPY_MODEL_c6c7619c8b374b729622c09c3ef3e48f",
      "max": 22395204,
      "min": 0,
      "orientation": "horizontal",
      "style": "IPY_MODEL_3d0284a60c8f4fd7b865bcf43bea06dc",
      "value": 22395204
     }
    },
    "497a578f4c5245c1b318b7265ae6978b": {
     "model_module": "@jupyter-widgets/controls",
     "model_module_version": "1.5.0",
     "model_name": "DescriptionStyleModel",
     "state": {
      "_model_module": "@jupyter-widgets/controls",
      "_model_module_version": "1.5.0",
      "_model_name": "DescriptionStyleModel",
      "_view_count": null,
      "_view_module": "@jupyter-widgets/base",
      "_view_module_version": "1.2.0",
      "_view_name": "StyleView",
      "description_width": ""
     }
    },
    "5938d2875baf4a4ca40462ab78608142": {
     "model_module": "@jupyter-widgets/controls",
     "model_module_version": "1.5.0",
     "model_name": "DescriptionStyleModel",
     "state": {
      "_model_module": "@jupyter-widgets/controls",
      "_model_module_version": "1.5.0",
      "_model_name": "DescriptionStyleModel",
      "_view_count": null,
      "_view_module": "@jupyter-widgets/base",
      "_view_module_version": "1.2.0",
      "_view_name": "StyleView",
      "description_width": ""
     }
    },
    "5d5a8468fdf64500be4d8e3a16094a57": {
     "model_module": "@jupyter-widgets/controls",
     "model_module_version": "1.5.0",
     "model_name": "HBoxModel",
     "state": {
      "_dom_classes": [],
      "_model_module": "@jupyter-widgets/controls",
      "_model_module_version": "1.5.0",
      "_model_name": "HBoxModel",
      "_view_count": null,
      "_view_module": "@jupyter-widgets/controls",
      "_view_module_version": "1.5.0",
      "_view_name": "HBoxView",
      "box_style": "",
      "children": [
       "IPY_MODEL_cb86e6fa811f4cbb8c2466d5ac766d9f",
       "IPY_MODEL_3d660bf09ba3485f99e75d1e06555589",
       "IPY_MODEL_b1cbdd234de9494c9681be63a8d021de"
      ],
      "layout": "IPY_MODEL_abf7947c7309416fa3d0075dcab24b0d"
     }
    },
    "abf7947c7309416fa3d0075dcab24b0d": {
     "model_module": "@jupyter-widgets/base",
     "model_module_version": "1.2.0",
     "model_name": "LayoutModel",
     "state": {
      "_model_module": "@jupyter-widgets/base",
      "_model_module_version": "1.2.0",
      "_model_name": "LayoutModel",
      "_view_count": null,
      "_view_module": "@jupyter-widgets/base",
      "_view_module_version": "1.2.0",
      "_view_name": "LayoutView",
      "align_content": null,
      "align_items": null,
      "align_self": null,
      "border": null,
      "bottom": null,
      "display": null,
      "flex": null,
      "flex_flow": null,
      "grid_area": null,
      "grid_auto_columns": null,
      "grid_auto_flow": null,
      "grid_auto_rows": null,
      "grid_column": null,
      "grid_gap": null,
      "grid_row": null,
      "grid_template_areas": null,
      "grid_template_columns": null,
      "grid_template_rows": null,
      "height": null,
      "justify_content": null,
      "justify_items": null,
      "left": null,
      "margin": null,
      "max_height": null,
      "max_width": null,
      "min_height": null,
      "min_width": null,
      "object_fit": null,
      "object_position": null,
      "order": null,
      "overflow": null,
      "overflow_x": null,
      "overflow_y": null,
      "padding": null,
      "right": null,
      "top": null,
      "visibility": null,
      "width": null
     }
    },
    "b1cbdd234de9494c9681be63a8d021de": {
     "model_module": "@jupyter-widgets/controls",
     "model_module_version": "1.5.0",
     "model_name": "HTMLModel",
     "state": {
      "_dom_classes": [],
      "_model_module": "@jupyter-widgets/controls",
      "_model_module_version": "1.5.0",
      "_model_name": "HTMLModel",
      "_view_count": null,
      "_view_module": "@jupyter-widgets/controls",
      "_view_module_version": "1.5.0",
      "_view_name": "HTMLView",
      "description": "",
      "description_tooltip": null,
      "layout": "IPY_MODEL_0450a311d1bd47948af8c8331ba0fb4b",
      "placeholder": "​",
      "style": "IPY_MODEL_5938d2875baf4a4ca40462ab78608142",
      "value": " 22.4M/22.4M [00:00&lt;00:00, 42.5MB/s]"
     }
    },
    "c6c7619c8b374b729622c09c3ef3e48f": {
     "model_module": "@jupyter-widgets/base",
     "model_module_version": "1.2.0",
     "model_name": "LayoutModel",
     "state": {
      "_model_module": "@jupyter-widgets/base",
      "_model_module_version": "1.2.0",
      "_model_name": "LayoutModel",
      "_view_count": null,
      "_view_module": "@jupyter-widgets/base",
      "_view_module_version": "1.2.0",
      "_view_name": "LayoutView",
      "align_content": null,
      "align_items": null,
      "align_self": null,
      "border": null,
      "bottom": null,
      "display": null,
      "flex": null,
      "flex_flow": null,
      "grid_area": null,
      "grid_auto_columns": null,
      "grid_auto_flow": null,
      "grid_auto_rows": null,
      "grid_column": null,
      "grid_gap": null,
      "grid_row": null,
      "grid_template_areas": null,
      "grid_template_columns": null,
      "grid_template_rows": null,
      "height": null,
      "justify_content": null,
      "justify_items": null,
      "left": null,
      "margin": null,
      "max_height": null,
      "max_width": null,
      "min_height": null,
      "min_width": null,
      "object_fit": null,
      "object_position": null,
      "order": null,
      "overflow": null,
      "overflow_x": null,
      "overflow_y": null,
      "padding": null,
      "right": null,
      "top": null,
      "visibility": null,
      "width": null
     }
    },
    "cb86e6fa811f4cbb8c2466d5ac766d9f": {
     "model_module": "@jupyter-widgets/controls",
     "model_module_version": "1.5.0",
     "model_name": "HTMLModel",
     "state": {
      "_dom_classes": [],
      "_model_module": "@jupyter-widgets/controls",
      "_model_module_version": "1.5.0",
      "_model_name": "HTMLModel",
      "_view_count": null,
      "_view_module": "@jupyter-widgets/controls",
      "_view_module_version": "1.5.0",
      "_view_name": "HTMLView",
      "description": "",
      "description_tooltip": null,
      "layout": "IPY_MODEL_025e67d516a34408a92b34855f19ac1e",
      "placeholder": "​",
      "style": "IPY_MODEL_497a578f4c5245c1b318b7265ae6978b",
      "value": "model.safetensors: 100%"
     }
    }
   }
  }
 },
 "nbformat": 4,
 "nbformat_minor": 0
}
