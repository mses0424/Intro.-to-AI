{
  "cells": [
    {
      "cell_type": "markdown",
      "id": "8dec01ba",
      "metadata": {
        "id": "8dec01ba"
      },
      "source": [
        "# TinyCNN Training with Google Drive\n",
        "\n",
        "這個 Notebook 用於：\n",
        "1. 掛載 Google Drive\n",
        "2. 從 Drive 中載入資料\n",
        "3. 定義並訓練 TinyCNN 模型\n",
        "4. 保存最佳模型"
      ]
    },
    {
      "cell_type": "code",
      "execution_count": null,
      "id": "d05cdce7",
      "metadata": {
        "colab": {
          "base_uri": "https://localhost:8080/"
        },
        "id": "d05cdce7",
        "outputId": "e30c0881-aef6-4b80-9197-b0f14943e462"
      },
      "outputs": [
        {
          "name": "stdout",
          "output_type": "stream",
          "text": [
            "Mounted at /content/drive\n"
          ]
        }
      ],
      "source": [
        "from google.colab import drive\n",
        "drive.mount('/content/drive')"
      ]
    },
    {
      "cell_type": "code",
      "execution_count": null,
      "id": "23da6c1c",
      "metadata": {
        "id": "23da6c1c"
      },
      "outputs": [],
      "source": [
        "import torch\n",
        "import torch.nn as nn\n",
        "import torch.nn.functional as F\n",
        "import torch.optim as optim\n",
        "from torchvision import datasets, transforms\n",
        "from torch.utils.data import DataLoader\n",
        "import os"
      ]
    },
    {
      "cell_type": "code",
      "execution_count": null,
      "id": "a071feeb",
      "metadata": {
        "id": "a071feeb"
      },
      "outputs": [],
      "source": [
        "img_size      = 48\n",
        "batch_size    = 64\n",
        "num_epochs    = 20\n",
        "learning_rate = 1e-3\n",
        "save_path     = '/content/drive/MyDrive/archive/cnn_small.pth'\n",
        "os.makedirs(os.path.dirname(save_path), exist_ok=True)"
      ]
    },
    {
      "cell_type": "code",
      "execution_count": null,
      "id": "f5420e8d",
      "metadata": {
        "colab": {
          "base_uri": "https://localhost:8080/"
        },
        "id": "f5420e8d",
        "outputId": "85f7d7cb-3985-4378-a709-9d1af7008c98"
      },
      "outputs": [
        {
          "name": "stdout",
          "output_type": "stream",
          "text": [
            "Classes: ['angry', 'disgusted', 'fearful', 'happy', 'neutral', 'sad', 'surprised']\n",
            "Num classes: 7\n"
          ]
        }
      ],
      "source": [
        "train_tf = transforms.Compose([\n",
        "    transforms.Grayscale(num_output_channels=1),\n",
        "    transforms.Resize((img_size, img_size)),\n",
        "    transforms.RandomHorizontalFlip(),\n",
        "    transforms.ToTensor(),\n",
        "    transforms.Normalize((0.5,), (0.5,)),\n",
        "])\n",
        "test_tf = transforms.Compose([\n",
        "    transforms.Grayscale(num_output_channels=1),\n",
        "    transforms.Resize((img_size, img_size)),\n",
        "    transforms.ToTensor(),\n",
        "    transforms.Normalize((0.5,), (0.5,)),\n",
        "])\n",
        "\n",
        "train_ds = datasets.ImageFolder('/content/drive/MyDrive/archive/train', transform=train_tf)\n",
        "test_ds  = datasets.ImageFolder('/content/drive/MyDrive/archive/test',   transform=test_tf)\n",
        "train_loader = DataLoader(train_ds, batch_size, shuffle=True,  num_workers=2)\n",
        "test_loader  = DataLoader(test_ds,  batch_size, shuffle=False, num_workers=2)\n",
        "\n",
        "print('Classes:', train_ds.classes)\n",
        "print('Num classes:', len(train_ds.classes))"
      ]
    },
    {
      "cell_type": "code",
      "execution_count": null,
      "id": "86bf3b44",
      "metadata": {
        "id": "86bf3b44"
      },
      "outputs": [],
      "source": [
        "class TinyCNN(nn.Module):\n",
        "    def __init__(self, num_classes):\n",
        "        super().__init__()\n",
        "        self.conv1 = nn.Conv2d(1, 32, 3, padding=1)\n",
        "        self.bn1   = nn.BatchNorm2d(32)\n",
        "        self.conv2 = nn.Conv2d(32, 64, 3, padding=1)\n",
        "        self.bn2   = nn.BatchNorm2d(64)\n",
        "        self.pool  = nn.MaxPool2d(2, 2)\n",
        "        self.adaptive_pool = nn.AdaptiveAvgPool2d((4,4))\n",
        "        self.dropout = nn.Dropout(0.4)\n",
        "        self.fc1 = nn.Linear(64 * 4 * 4, 256)\n",
        "        self.fc2 = nn.Linear(256, num_classes)\n",
        "\n",
        "    def forward(self, x):\n",
        "        x = F.relu(self.bn1(self.conv1(x)))\n",
        "        x = self.pool(x)\n",
        "        x = F.relu(self.bn2(self.conv2(x)))\n",
        "        x = self.pool(x)\n",
        "        x = self.adaptive_pool(x)\n",
        "        x = x.view(x.size(0), -1)\n",
        "        x = F.relu(self.fc1(x))\n",
        "        x = self.dropout(x)\n",
        "        x = self.fc2(x)\n",
        "        return x"
      ]
    },
    {
      "cell_type": "code",
      "execution_count": null,
      "id": "0cf2a193",
      "metadata": {
        "id": "0cf2a193"
      },
      "outputs": [],
      "source": [
        "device    = torch.device('cuda' if torch.cuda.is_available() else 'cpu')\n",
        "model     = TinyCNN(num_classes=len(train_ds.classes)).to(device)\n",
        "criterion = nn.CrossEntropyLoss()\n",
        "optimizer = optim.Adam(model.parameters(), lr=learning_rate)"
      ]
    },
    {
      "cell_type": "code",
      "execution_count": null,
      "id": "e7e9eab7",
      "metadata": {
        "colab": {
          "base_uri": "https://localhost:8080/"
        },
        "id": "e7e9eab7",
        "outputId": "fd427ef9-c632-4007-89f0-8855c736ac46"
      },
      "outputs": [
        {
          "name": "stdout",
          "output_type": "stream",
          "text": [
            "Epoch 01 — Val Acc: 42.31% (best 0.00%)\n",
            " New best model saved to /content/drive/MyDrive/archive/cnn_small.pth\n",
            "\n",
            "Epoch 02 — Val Acc: 44.79% (best 42.31%)\n",
            " New best model saved to /content/drive/MyDrive/archive/cnn_small.pth\n",
            "\n",
            "Epoch 03 — Val Acc: 45.99% (best 44.79%)\n",
            " New best model saved to /content/drive/MyDrive/archive/cnn_small.pth\n",
            "\n",
            "Epoch 04 — Val Acc: 47.30% (best 45.99%)\n",
            " New best model saved to /content/drive/MyDrive/archive/cnn_small.pth\n",
            "\n",
            "Epoch 05 — Val Acc: 49.33% (best 47.30%)\n",
            " New best model saved to /content/drive/MyDrive/archive/cnn_small.pth\n",
            "\n",
            "Epoch 06 — Val Acc: 50.28% (best 49.33%)\n",
            " New best model saved to /content/drive/MyDrive/archive/cnn_small.pth\n",
            "\n",
            "Epoch 07 — Val Acc: 50.26% (best 50.28%)\n",
            "Epoch 08 — Val Acc: 51.20% (best 50.28%)\n",
            " New best model saved to /content/drive/MyDrive/archive/cnn_small.pth\n",
            "\n",
            "Epoch 09 — Val Acc: 51.62% (best 51.20%)\n",
            " New best model saved to /content/drive/MyDrive/archive/cnn_small.pth\n",
            "\n",
            "Epoch 10 — Val Acc: 52.88% (best 51.62%)\n",
            " New best model saved to /content/drive/MyDrive/archive/cnn_small.pth\n",
            "\n",
            "Epoch 11 — Val Acc: 53.29% (best 52.88%)\n",
            " New best model saved to /content/drive/MyDrive/archive/cnn_small.pth\n",
            "\n",
            "Epoch 12 — Val Acc: 53.57% (best 53.29%)\n",
            " New best model saved to /content/drive/MyDrive/archive/cnn_small.pth\n",
            "\n",
            "Epoch 13 — Val Acc: 54.42% (best 53.57%)\n",
            " New best model saved to /content/drive/MyDrive/archive/cnn_small.pth\n",
            "\n",
            "Epoch 14 — Val Acc: 53.29% (best 54.42%)\n",
            "Epoch 15 — Val Acc: 55.08% (best 54.42%)\n",
            " New best model saved to /content/drive/MyDrive/archive/cnn_small.pth\n",
            "\n",
            "Epoch 16 — Val Acc: 54.43% (best 55.08%)\n",
            "Epoch 17 — Val Acc: 52.87% (best 55.08%)\n",
            "Epoch 18 — Val Acc: 54.76% (best 55.08%)\n",
            "Epoch 19 — Val Acc: 54.96% (best 55.08%)\n",
            "Epoch 20 — Val Acc: 55.34% (best 55.08%)\n",
            " New best model saved to /content/drive/MyDrive/archive/cnn_small.pth\n",
            "\n",
            "Training finished. Best accuracy: 55.34%\n"
          ]
        }
      ],
      "source": [
        "best_acc = 0.0\n",
        "for epoch in range(1, num_epochs+1):\n",
        "    model.train()\n",
        "    for imgs, labels in train_loader:\n",
        "        imgs, labels = imgs.to(device), labels.to(device)\n",
        "        optimizer.zero_grad()\n",
        "        loss = criterion(model(imgs), labels)\n",
        "        loss.backward()\n",
        "        optimizer.step()\n",
        "\n",
        "    model.eval()\n",
        "    correct = total = 0\n",
        "    with torch.no_grad():\n",
        "        for imgs, labels in test_loader:\n",
        "            imgs, labels = imgs.to(device), labels.to(device)\n",
        "            preds = model(imgs).argmax(dim=1)\n",
        "            correct += (preds == labels).sum().item()\n",
        "            total   += labels.size(0)\n",
        "    acc = correct / total * 100\n",
        "    print(f\"Epoch {epoch:02d} — Val Acc: {acc:.2f}% (best {best_acc:.2f}%)\")\n",
        "    if acc > best_acc:\n",
        "        best_acc = acc\n",
        "        torch.save(model.state_dict(), save_path)\n",
        "        print(f\" New best model saved to {save_path}\\n\")\n",
        "\n",
        "print(f\"Training finished. Best accuracy: {best_acc:.2f}%\")"
      ]
    }
  ],
  "metadata": {
    "colab": {
      "provenance": []
    },
    "kernelspec": {
      "display_name": "Python 3",
      "name": "python3"
    },
    "language_info": {
      "name": "python"
    }
  },
  "nbformat": 4,
  "nbformat_minor": 5
}
